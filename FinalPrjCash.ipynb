{
 "cells": [
  {
   "cell_type": "markdown",
   "metadata": {
    "pycharm": {
     "name": "#%% md\n"
    }
   },
   "source": [
    "ANN Final Project: Word Embedding"
   ]
  },
  {
   "cell_type": "code",
   "execution_count": 1,
   "metadata": {
    "ExecuteTime": {
     "end_time": "2019-10-14T18:33:15.670464Z",
     "start_time": "2019-10-14T18:33:15.662510Z"
    },
    "pycharm": {
     "name": "#%%\n"
    }
   },
   "outputs": [
    {
     "name": "stderr",
     "output_type": "stream",
     "text": [
      "[nltk_data] Downloading package omw-1.4 to\n",
      "[nltk_data]     C:\\Users\\edwin\\AppData\\Roaming\\nltk_data...\n",
      "[nltk_data]   Package omw-1.4 is already up-to-date!\n",
      "[nltk_data] Downloading package punkt to\n",
      "[nltk_data]     C:\\Users\\edwin\\AppData\\Roaming\\nltk_data...\n",
      "[nltk_data]   Package punkt is already up-to-date!\n",
      "[nltk_data] Downloading package stopwords to\n",
      "[nltk_data]     C:\\Users\\edwin\\AppData\\Roaming\\nltk_data...\n",
      "[nltk_data]   Package stopwords is already up-to-date!\n",
      "[nltk_data] Downloading package wordnet to\n",
      "[nltk_data]     C:\\Users\\edwin\\AppData\\Roaming\\nltk_data...\n",
      "[nltk_data]   Package wordnet is already up-to-date!\n"
     ]
    }
   ],
   "source": [
    "import numpy\n",
    "%matplotlib inline\n",
    "\n",
    "import numpy as np\n",
    "import tensorflow\n",
    "from nltk.stem import WordNetLemmatizer\n",
    "from nltk.stem import PorterStemmer\n",
    "from nltk.corpus import wordnet\n",
    "\n",
    "import nltk\n",
    "nltk.download('omw-1.4')\n",
    "nltk.download('punkt')\n",
    "nltk.download('stopwords')\n",
    "nltk.download('wordnet')\n",
    "stop_words = nltk.corpus.stopwords.words('english')\n",
    "stop_words.append('cnn')\n",
    "lemmatizer = WordNetLemmatizer()\n",
    "porter = PorterStemmer()\n",
    "\n",
    "import random\n",
    "import sys\n",
    "import io\n",
    "import os\n",
    "import datetime\n",
    "from bs4 import BeautifulSoup\n",
    "import requests as rq\n",
    "\n",
    "from tensorflow.keras.callbacks import LambdaCallback\n",
    "from tensorflow.keras.models import Sequential\n",
    "from tensorflow.keras.layers import Dense, LSTM\n",
    "from tensorflow.keras.optimizers import RMSprop\n",
    "from tensorflow import keras\n",
    "\n"
   ]
  },
  {
   "cell_type": "code",
   "execution_count": 2,
   "metadata": {
    "pycharm": {
     "name": "#%%\n"
    },
    "scrolled": false
   },
   "outputs": [
    {
     "name": "stdout",
     "output_type": "stream",
     "text": [
      "(9008,)\n",
      "mapping done\n",
      "{'admit': 0, 'kill': 1, 'fly': 2, 'chorus': 3, 'gabriel': 4, 'liar': 5, 'holster': 6, 'blouse': 7, \"let's\": 8, 'strung': 9, 'floated': 10, 'starship': 11, 'mother': 12, 'highway': 13, 'santa': 14, 'refused': 15, 'tortures': 16, 'gotta': 17, \"puttin'\": 18, 'crowns': 19, \"who'll\": 20, 'ambitious': 21, 'rounds': 22, 'dope': 23, 'hen': 24, 'pappy': 25, 'call': 26, 'huh': 27, 'smile': 28, \"potter's\": 29, 'nosed': 30, 'cold': 31, 'sheep': 32, 'pots': 33, 'shocked': 34, 'appearance': 35, 'wild': 36, 'roses': 37, 'richfield': 38, 'farmers': 39, 'hound': 40, 'happy': 41, 'steal': 42, 'bide': 43, 'spend': 44, 'bill': 45, 'guitar': 46, 'kinds': 47, 'second': 48, 'arise': 49, 'strife': 50, 'turning': 51, 'drawl': 52, 'bolts': 53, 'greedy': 54, 'panicked': 55, 'soon': 56, \"head's\": 57, \"man's\": 58, 'baraboo': 59, 'blues': 60, 'answer': 61, 'trumpets': 62, 'ave': 63, 'spaniards': 64, 'records': 65, 'face': 66, 'gang': 67, 'cannot': 68, 'please': 69, \"'til\": 70, 'gonna': 71, 'fear': 72, 'alarmed': 73, 'momma': 74, \"there's\": 75, 'leaves': 76, 'mules': 77, 'worried': 78, 'digging': 79, \"dublin's\": 80, 'meet': 81, 'pittsburgh': 82, 'friend': 83, 'alive': 84, 'seek': 85, 'kinfolk': 86, 'sunday': 87, 'orange': 88, 'knoxville': 89, 'dropped': 90, 'laughter': 91, 'worked': 92, 'dad': 93, 'judge': 94, 'bangor': 95, 'child': 96, 'murder': 97, 'saviour': 98, 'sink': 99, 'breeze': 100, 'fellow': 101, 'announcement': 102, \"blowin'\": 103, 'earth': 104, 'davenport': 105, 'fought': 106, 'raining': 107, 'kalamazoo': 108, 'beauteous': 109, 'flanders': 110, 'sweat': 111, 'noise': 112, \"yesterday's\": 113, 'waterloo': 114, 'stuck': 115, 'upon': 116, 'fairest': 117, 'rough': 118, \"valley's\": 119, 'probably': 120, 'jesse': 121, 'street': 122, 'focus': 123, 'donaghadee': 124, 'winter': 125, 'comes': 126, 'gold': 127, 'shiloh': 128, 'somebody': 129, 'caller': 130, 'island': 131, \"suckin'\": 132, 'tail': 133, 'sting': 134, 'make': 135, 'scott': 136, 'hell': 137, 'hey': 138, 'change': 139, 'pieces': 140, 'virgins': 141, \"i've\": 142, 'lure': 143, 'court': 144, 'release': 145, \"coin'\": 146, 'lee': 147, 'begging': 148, 'fast': 149, 'poor': 150, 'hollered': 151, 'trigger': 152, 'proves': 153, 'pima': 154, 'silver': 155, 'ring': 156, 'pill': 157, 'billy': 158, 'feet': 159, 'rocking': 160, 'caught': 161, 'place': 162, 'busted': 163, 'quickly': 164, 'crossed': 165, 'expressions': 166, 'bob': 167, 'lit': 168, 'sooner': 169, 'fool': 170, 'chariot': 171, 'scattered': 172, 'form': 173, 'daughter': 174, 'forgot': 175, 'replace': 176, 'locked': 177, 'schooner': 178, 'shalam': 179, 'shoe': 180, 'pulled': 181, 'hip': 182, 'clear': 183, 'hushed': 184, 'fellers': 185, 'booze': 186, 'turn': 187, 'kept': 188, 'say': 189, 'divine': 190, 'strong': 191, 'regret': 192, 'combed': 193, 'tomb': 194, \"swinger's\": 195, 'dungeon': 196, 'colors': 197, 'hallow': 198, \"watchin'\": 199, \"we'll\": 200, \"tho'\": 201, 'slipped': 202, 'faithful': 203, 'late': 204, 'handsome': 205, 'pennyweight': 206, 'think': 207, 'brothers': 208, \"sisters'\": 209, 'kicking': 210, 'waved': 211, 'vile': 212, 'arms': 213, 'cigars': 214, 'storm': 215, 'beaten': 216, 'day': 217, 'cocaine': 218, 'searching': 219, 'walked': 220, 'let': 221, 'sword': 222, 'shreveport': 223, 'learn': 224, 'bus': 225, 'sit': 226, 'stars': 227, 'style': 228, \"someone's\": 229, 'attested': 230, 'mountains': 231, 'end': 232, 'hour': 233, 'shore': 234, 'lips': 235, 'jacksonville': 236, 'fiend': 237, 'shine': 238, 'teaching': 239, 'god': 240, 'loose': 241, 'arm': 242, 'wearier': 243, \"travelin'\": 244, 'float': 245, 'bones': 246, 'broken': 247, 'deserve': 248, 'repay': 249, 'helped': 250, 'knife': 251, 'shades': 252, 'hopeless': 253, 'dwell': 254, 'stoned': 255, 'korea': 256, 'bring': 257, 'twelve': 258, 'check': 259, 'top': 260, 'lightly': 261, 'omerback': 262, 'banks': 263, 'belted': 264, 'sidewalk': 265, \"did'st\": 266, 'laying': 267, 'circles': 268, 'easy': 269, 'record': 270, 'spin': 271, 'jumpy': 272, 'pen': 273, 'echoed': 274, 'cup': 275, 'midnight': 276, 'married': 277, 'bail': 278, 'sweetest': 279, 'wish': 280, 'retired': 281, 'fired': 282, 'heed': 283, 'shasta': 284, 'clock': 285, 'paid': 286, 'stud': 287, 'started': 288, 'easier': 289, 'drawing': 290, 'klondike': 291, 'haired': 292, 'coal': 293, 'board': 294, 'ragged': 295, 'tapping': 296, 'definitely': 297, 'mourners': 298, 'bolt': 299, 'warm': 300, 'riding': 301, 'beg': 302, 'throttle': 303, \"mouthin'\": 304, \"fallin'\": 305, 'wheel': 306, 'girl': 307, 'thee': 308, 'tonight': 309, 'album': 310, 'hanging': 311, 'six': 312, 'lonesome': 313, 'babies': 314, 'car': 315, 'wound': 316, 'better': 317, 'mid': 318, 'yeah': 319, 'stand': 320, 'dirt': 321, 'bailed': 322, 'front': 323, 'breathe': 324, 'dumb': 325, 'speed': 326, 'water': 327, 'short': 328, 'gun': 329, 'promised': 330, 'walking': 331, 'grandfather': 332, 'paradise': 333, 'cents': 334, \"nothin'\": 335, 'born': 336, 'smiled': 337, 'relieve': 338, 'lean': 339, 'lunchbox': 340, 'stoop': 341, 'beauregard': 342, 'laughs': 343, 'unto': 344, 'defend': 345, 'prepared': 346, 'standing': 347, 'number': 348, 'knees': 349, 'cradle': 350, 'pump': 351, 'alamo': 352, 'tells': 353, 'multitudes': 354, 'try': 355, 'knocked': 356, 'drove': 357, 'trunk': 358, 'farther': 359, 'pardon': 360, 'nervous': 361, 'hush': 362, 'shoulders': 363, 'casey': 364, 'sparkling': 365, 'throne': 366, 'pictures': 367, 'nothing': 368, 'saloon': 369, \"high's\": 370, 'memories': 371, 'fishing': 372, 'boats': 373, 'withered': 374, \"makin'\": 375, 'till': 376, 'waited': 377, 'needed': 378, 'mule': 379, 'wonderful': 380, 'morn': 381, 'fooled': 382, 'southbound': 383, 'ghost': 384, 'shadow': 385, 'grew': 386, 'disappearing': 387, 'gavel': 388, 'flowers': 389, \"ranger's\": 390, 'seven': 391, 'measured': 392, 'twenty': 393, 'fisherman': 394, 'blackest': 395, 'pony': 396, \"'come\": 397, 'hearted': 398, \"callin'\": 399, 'cocked': 400, 'pistol': 401, 'chase': 402, 'seem': 403, \"poppin'\": 404, 'substitute': 405, 'flower': 406, 'chance': 407, 'big': 408, 'proved': 409, 'kit': 410, 'outlaw': 411, 'thirsty': 412, 'picked': 413, 'hair': 414, 'greater': 415, 'known': 416, 'dining': 417, 'throat': 418, 'trains': 419, \"lovin'\": 420, 'rolled': 421, 'souix': 422, 'papa': 423, 'soft': 424, 'orleans': 425, 'bertha': 426, 'kicked': 427, 'else': 428, 'slapped': 429, 'boston': 430, 'thirty': 431, 'kitchen': 432, 'birds': 433, 'hoping': 434, 'choked': 435, 'fighter': 436, 'dodge': 437, 'curls': 438, 'health': 439, 'tie': 440, 'lady': 441, 'whichta': 442, 'mississippi': 443, 'bottle': 444, 'eat': 445, 'missing': 446, \"a'lazing\": 447, 'view': 448, 'waterville': 449, \"gettin'\": 450, 'cups': 451, 'catalina': 452, 'ranger': 453, 'machine': 454, 'wrong': 455, 'believe': 456, 'years': 457, 'coming': 458, \"givin'\": 459, 'cheating': 460, 'kingdom': 461, 'nickel': 462, 'throughout': 463, 'whatever': 464, 'stood': 465, 'awake': 466, 'wet': 467, 'open': 468, 'frozen': 469, \"that's\": 470, 'washed': 471, 'devised': 472, 'reaching': 473, 'chine': 474, 'stream': 475, 'church': 476, 'see': 477, 'taller': 478, \"retsina'\": 479, 'blot': 480, 'help': 481, 'ira': 482, 'sees': 483, 'different': 484, 'whoever': 485, 'whoreys': 486, \"swimmin'\": 487, 'thursday': 488, 'sweeter': 489, 'followed': 490, 'rang': 491, 'cloudy': 492, 'funny': 493, 'heard': 494, 'smell': 495, 'sick': 496, 'ground': 497, 'jericho': 498, \"seein'\": 499, 'wise': 500, 'things': 501, 'gal': 502, 'mexico': 503, 'raise': 504, 'full': 505, 'borderline': 506, 'bout': 507, 'saying': 508, 'sun': 509, 'alone': 510, 'gladness': 511, 'new': 512, 'vinegar': 513, 'clutched': 514, 'seconds': 515, 'close': 516, \"she'd\": 517, 'kiss': 518, \"singin'\": 519, 'engineer': 520, 'fairaday': 521, 'comb': 522, 'bakersfield': 523, 'chain': 524, 'even': 525, 'notches': 526, 'wasted': 527, 'darkened': 528, 'wilt': 529, \"god's\": 530, 'brought': 531, 'floor': 532, 'cows': 533, 'hope': 534, 'lot': 535, 'crucified': 536, 'tossed': 537, 'dime': 538, 'shocks': 539, 'fix': 540, 'wide': 541, 'mite': 542, 'kind': 543, \"feelin'\": 544, 'gatlinburg': 545, 'nine': 546, 'cried': 547, 'fall': 548, 'colorado': 549, 'claim': 550, 'eggs': 551, 'paulie': 552, 'tea': 553, \"risin'\": 554, 'lost': 555, 'tennessee': 556, \"walkin'\": 557, 'yards': 558, \"growin'\": 559, 'train': 560, 'traveled': 561, 'tollaperson': 562, 'lots': 563, 'baubles': 564, 'use': 565, 'brew': 566, 'glen': 567, 'rounders': 568, 'died': 569, 'joy': 570, 'colt': 571, 'stripes': 572, 'insisting': 573, 'toting': 574, \"untanglin'\": 575, 'women': 576, \"he's\": 577, 'celestial': 578, 'briny': 579, 'requests': 580, 'baton': 581, 'turf': 582, 'west': 583, 'flipped': 584, 'gypsies': 585, 'freighter': 586, \"driver's\": 587, 'kettledrum': 588, 'beneath': 589, 'wined': 590, 'folsom': 591, 'trip': 592, 'limp': 593, 'reading': 594, 'fortune': 595, 'lapaloma': 596, 'young': 597, 'station': 598, 'piece': 599, 'key': 600, 'uncle': 601, 'champagne': 602, 'hear': 603, 'law': 604, 'stroke': 605, 'brighten': 606, 'hold': 607, 'picture': 608, 'confess': 609, 'rag': 610, 'terror': 611, 'kingston': 612, 'serves': 613, 'cries': 614, 'bow': 615, \"rollin'\": 616, \"sister's\": 617, 'nebraska': 618, 'pane': 619, 'ago': 620, 'armor': 621, 'makes': 622, 'read': 623, 'realize': 624, 'queen': 625, 'shame': 626, 'dog': 627, 'oklahoma': 628, 'ellisburg': 629, 'paul': 630, 'brake': 631, 'straight': 632, 'heels': 633, 'fame': 634, 'wood': 635, 'several': 636, 'lucky': 637, 'rode': 638, 'beat': 639, 'awhile': 640, 'discloses': 641, 'cut': 642, 'border': 643, 'everyone': 644, 'grinding': 645, 'rosy': 646, 'louis': 647, 'ugh': 648, 'deliver': 649, 'hands': 650, 'victim': 651, 'tell': 652, 'falls': 653, \"he'd\": 654, 'tide': 655, 'mercy': 656, 'sandoval': 657, 'steep': 658, 'night': 659, 'thereon': 660, 'picking': 661, 'interruption': 662, 'inside': 663, 'drive': 664, 'right': 665, 'dwelling': 666, 'awoke': 667, 'land': 668, 'tough': 669, 'cleanest': 670, 'muscle': 671, 'comfort': 672, 'fire': 673, 'hah': 674, 'lepers': 675, 'likewise': 676, 'seams': 677, 'sorrow': 678, 'handled': 679, 'bet': 680, 'song': 681, 'mobile': 682, 'chosen': 683, 'collide': 684, 'hire': 685, 'surprise': 686, 'boy': 687, 'pricks': 688, 'finest': 689, 'along': 690, 'bold': 691, 'fightings': 692, 'onlyness': 693, 'partake': 694, 'cleanse': 695, 'due': 696, 'would': 697, 'hock': 698, 'mainsail': 699, 'dirtiest': 700, 'maid': 701, 'overtook': 702, 'chair': 703, 'agree': 704, 'mud': 705, 'drop': 706, 'wonder': 707, 'glorious': 708, 'general': 709, 'harbor': 710, 'ease': 711, 'ages': 712, 'slowly': 713, 'willie': 714, 'groan': 715, 'needle': 716, 'man': 717, 'talked': 718, 'bids': 719, 'everything': 720, 'crocodile': 721, 'dollar': 722, 'week': 723, 'prisoner': 724, 'flagpole': 725, 'got': 726, 'drinks': 727, \"she'll\": 728, 'serve': 729, 'wrote': 730, 'mammy': 731, 'beans': 732, 'next': 733, 'mess': 734, 'sang': 735, 'shannon': 736, 'anybody': 737, 'business': 738, 'astray': 739, 'someone': 740, 'million': 741, 'penny': 742, 'bit': 743, 'least': 744, 'wits': 745, 'oskaloussa': 746, 'following': 747, 'lily': 748, 'mighty': 749, 'checks': 750, 'houston': 751, \"bid'st\": 752, 'snow': 753, 'rambler': 754, 'washington': 755, 'laid': 756, 'departure': 757, 'abused': 758, 'treasure': 759, 'one': 760, 'school': 761, 'wine': 762, 'dishonored': 763, 'screw': 764, 'bended': 765, 'crown': 766, 'yet': 767, 'honest': 768, 'sickness': 769, 'hate': 770, \"workin'\": 771, 'half': 772, 'jimmy': 773, 'shattered': 774, 'hack': 775, \"'em\": 776, 'spoon': 777, 'empty': 778, 'hypnotized': 779, 'jellico': 780, 'near': 781, 'official': 782, 'garden': 783, 'foam': 784, 'indian': 785, 'marine': 786, 'stock': 787, 'tuesday': 788, 'lives': 789, 'places': 790, \"digin'\": 791, 'filthy': 792, 'reckless': 793, 'soldier': 794, 'minnesota': 795, 'hammered': 796, 'tread': 797, \"people's\": 798, 'spring': 799, 'grande': 800, 'loads': 801, 'hotter': 802, 'body': 803, 'cast': 804, 'making': 805, 'starting': 806, 'charger': 807, 'prick': 808, \"cavortin'\": 809, 'settled': 810, 'table': 811, 'name': 812, 'file': 813, 'pretty': 814, \"lookin'\": 815, 'early': 816, 'drink': 817, 'thorn': 818, \"leanin'\": 819, 'dressed': 820, 'verdict': 821, \"luther's\": 822, 'need': 823, 'still': 824, 'bad': 825, 'pity': 826, 'boat': 827, 'san': 828, 'life': 829, 'shoes': 830, 'grits': 831, 'flight': 832, 'made': 833, 'hayes': 834, 'golden': 835, 'daddy': 836, 'snuck': 837, 'sam': 838, 'fields': 839, 'come': 840, 'bloom': 841, 'listen': 842, 'shout': 843, 'join': 844, 'naw': 845, 'ditch': 846, 'hours': 847, 'leaned': 848, 'eyes': 849, 'decides': 850, 'struggle': 851, 'watching': 852, 'country': 853, 'room': 854, 'veil': 855, 'blocks': 856, 'info': 857, 'temple': 858, 'whisper': 859, 'anything': 860, 'repeat': 861, 'damp': 862, 'others': 863, 'tears': 864, 'plans': 865, 'buckle': 866, 'headaches': 867, 'hang': 868, 'charges': 869, 'prison': 870, 'shape': 871, 'sneak': 872, 'great': 873, 'fried': 874, 'opalacka': 875, 'put': 876, 'across': 877, 'lip': 878, 'thorns': 879, 'chicken': 880, 'district': 881, 'behind': 882, 'proud': 883, 'look': 884, 'vigils': 885, 'fancy': 886, 'deserts': 887, 'successful': 888, 'blow': 889, 'toes': 890, 'sir': 891, 'shut': 892, 'grave': 893, 'park': 894, 'somber': 895, 'jail': 896, 'none': 897, 'tollgate': 898, 'scatter': 899, 'trade': 900, 'chest': 901, 'volunteered': 902, 'road': 903, 'honey': 904, 'treated': 905, 'true': 906, 'monday': 907, 'voices': 908, 'trumpet': 909, 'talk': 910, 'gears': 911, 'fiery': 912, 'share': 913, 'bragg': 914, 'warrant': 915, 'putting': 916, 'unjust': 917, 'silently': 918, 'battled': 919, 'jaypan': 920, 'house': 921, 'ends': 922, \"microphone's\": 923, 'lynn': 924, 'jesus': 925, 'complete': 926, 'mattua': 927, 'playing': 928, 'hello': 929, 'tore': 930, 'band': 931, 'dreamed': 932, 'vicksburg': 933, 'doubts': 934, 'baby': 935, 'crowd': 936, 'jima': 937, 'gravelburg': 938, 'happiness': 939, 'chicago': 940, 'enter': 941, 'microphone': 942, 'blissful': 943, 'pounds': 944, 'ran': 945, \"'cause\": 946, 'jackson': 947, 'though': 948, 'marry': 949, 'ships': 950, 'chickens': 951, 'sailed': 952, 'tinker': 953, 'steam': 954, \"o'er\": 955, 'lamb': 956, 'eyebrows': 957, 'wanna': 958, 'scar': 959, 'steps': 960, 'die': 961, 'hearts': 962, 'fine': 963, 'desert': 964, 'head': 965, 'shotgun': 966, 'fell': 967, 'talks': 968, 'muscles': 969, 'alarm': 970, 'burns': 971, 'nineteen': 972, 'dam': 973, 'bmi': 974, 'agreed': 975, 'honored': 976, 'yesterday': 977, 'take': 978, 'care': 979, 'point': 980, \"life's\": 981, 'way': 982, 'bright': 983, 'listened': 984, 'fever': 985, 'cared': 986, 'ahead': 987, 'field': 988, 'keg': 989, 'shake': 990, 'eighteen': 991, 'slip': 992, 'blue': 993, 'blood': 994, 'talking': 995, 'dew': 996, 'tampa': 997, 'blade': 998, 'bitch': 999, 'weeds': 1000, 'blame': 1001, 'ask': 1002, 'surf': 1003, 'iron': 1004, 'want': 1005, 'really': 1006, 'honky': 1007, 'sound': 1008, 'kneel': 1009, 'cabin': 1010, 'tinnesay': 1011, \"jove's\": 1012, 'anywhere': 1013, 'large': 1014, 'walk': 1015, 'plum': 1016, 'pal': 1017, 'solitary': 1018, 'four': 1019, 'dust': 1020, 'familiar': 1021, 'calling': 1022, 'wipe': 1023, \"drinkin'\": 1024, 'left': 1025, 'men': 1026, 'taking': 1027, \"burnin'\": 1028, 'amperdllo': 1029, 'prayers': 1030, 'eight': 1031, \"ira's\": 1032, 'furled': 1033, 'give': 1034, 'habit': 1035, 'touch': 1036, 'larimore': 1037, 'somehow': 1038, \"mother'd\": 1039, 'wedding': 1040, 'handle': 1041, 'doubt': 1042, 'peace': 1043, 'southern': 1044, 'cotton': 1045, 'farmed': 1046, 'higher': 1047, 'track': 1048, 'much': 1049, 'savior': 1050, 'shores': 1051, 'act': 1052, 'stay': 1053, 'box': 1054, 'abide': 1055, 'larne': 1056, 'time': 1057, 'ten': 1058, 'keeps': 1059, 'death': 1060, 'perhaps': 1061, 'gouging': 1062, 'run': 1063, 'cadillacs': 1064, 'snowflakes': 1065, 'panama': 1066, 'remain': 1067, 'returned': 1068, 'minute': 1069, 'taps': 1070, 'hung': 1071, 'boots': 1072, 'soul': 1073, 'learned': 1074, 'crime': 1075, 'tree': 1076, 'corner': 1077, 'fight': 1078, 'midst': 1079, 'cover': 1080, 'throw': 1081, 'dingle': 1082, 'weds': 1083, 'sunshine': 1084, 'rest': 1085, \"grandfather's\": 1086, \"we've\": 1087, 'sign': 1088, 'stranger': 1089, 'word': 1090, 'mind': 1091, 'fading': 1092, 'hakensack': 1093, 'woe': 1094, 'compliments': 1095, 'mouth': 1096, 'sail': 1097, 'tulsa': 1098, 'builder': 1099, 'vanished': 1100, 'joke': 1101, 'switch': 1102, 'plan': 1103, 'serenade': 1104, 'today': 1105, 'baltimore': 1106, 'people': 1107, 'war': 1108, 'drinking': 1109, 'breathed': 1110, 'shovel': 1111, 'rid': 1112, 'shaking': 1113, 'pound': 1114, 'pledge': 1115, 'deep': 1116, 'sweet': 1117, 'fargo': 1118, \"they'll\": 1119, 'disappoint': 1120, 'goose': 1121, 'two': 1122, 'dayton': 1123, 'line': 1124, 'agua': 1125, 'sat': 1126, 'cafe': 1127, 'cash': 1128, 'alibi': 1129, 'tracks': 1130, 'ringing': 1131, 'mistaken': 1132, 'writing': 1133, 'times': 1134, 'eagles': 1135, 'knew': 1136, 'fatal': 1137, \"marchin'\": 1138, 'snake': 1139, 'proudly': 1140, 'heaven': 1141, \"bendin'\": 1142, 'named': 1143, 'galilee': 1144, 'always': 1145, 'rivers': 1146, 'wearing': 1147, 'trouble': 1148, 'figured': 1149, 'keep': 1150, 'wife': 1151, 'spot': 1152, 'telephone': 1153, 'forget': 1154, \"draggin'\": 1155, 'money': 1156, 'low': 1157, 'rainy': 1158, 'looking': 1159, 'shelf': 1160, \"i'm\": 1161, 'staff': 1162, \"blownin'\": 1163, 'remember': 1164, 'chancellorsville': 1165, \"'bout\": 1166, 'grand': 1167, 'fifty': 1168, 'moment': 1169, 'sleeping': 1170, 'hall': 1171, 'protect': 1172, 'believer': 1173, \"leavin'\": 1174, 'world': 1175, 'might': 1176, 'tribute': 1177, 'closet': 1178, 'moan': 1179, 'moans': 1180, 'search': 1181, 'passed': 1182, 'wealthy': 1183, 'popped': 1184, 'crying': 1185, 'shed': 1186, 'skies': 1187, 'fuss': 1188, 'rhythm': 1189, 'tearing': 1190, 'working': 1191, 'ride': 1192, 'dark': 1193, 'sky': 1194, 'stains': 1195, 'letter': 1196, 'morning': 1197, 'game': 1198, 'everywhere': 1199, 'fit': 1200, 'texas': 1201, 'heavenly': 1202, \"cavin'\": 1203, 'pay': 1204, 'dreams': 1205, 'ashore': 1206, 'seventy': 1207, 'fears': 1208, 'roads': 1209, 'girls': 1210, 'shook': 1211, 'wings': 1212, 'darken': 1213, 'sugar': 1214, 'memphis': 1215, 'anymore': 1216, 'pond': 1217, 'monterey': 1218, 'guilty': 1219, \"they're\": 1220, 'skibbereen': 1221, \"pete's\": 1222, 'holds': 1223, 'rider': 1224, 'carpenter': 1225, 'denied': 1226, 'ripped': 1227, 'kissed': 1228, 'gentle': 1229, 'fumbled': 1230, 'mack': 1231, 'nuts': 1232, 'get': 1233, 'howlered': 1234, 'virginia': 1235, 'coughed': 1236, 'spied': 1237, 'psycho': 1238, 'pack': 1239, 'drill': 1240, 'broke': 1241, 'catch': 1242, 'lifted': 1243, 'inches': 1244, 'tocapillo': 1245, 'charming': 1246, 'cars': 1247, 'gave': 1248, 'bend': 1249, 'motor': 1250, 'suit': 1251, 'crashed': 1252, 'meager': 1253, 'relayed': 1254, 'fairly': 1255, 'cleared': 1256, 'adimore': 1257, 'square': 1258, 'grab': 1259, 'cigarettes': 1260, 'pray': 1261, 'bars': 1262, 'doctor': 1263, 'wave': 1264, 'foreman': 1265, 'homesick': 1266, 'sip': 1267, 'fail': 1268, 'headed': 1269, 'sent': 1270, 'livestock': 1271, \"engine's\": 1272, 'air': 1273, 'among': 1274, 'whupped': 1275, \"casey's\": 1276, 'small': 1277, 'rise': 1278, 'minutes': 1279, 'amarillo': 1280, 'vietnam': 1281, 'glory': 1282, \"hair's\": 1283, 'woman': 1284, 'lightning': 1285, 'receiver': 1286, 'reach': 1287, 'knows': 1288, 'hairs': 1289, 'skull': 1290, 'kid': 1291, \"breathin'\": 1292, 'thought': 1293, 'must': 1294, 'thin': 1295, 'drilled': 1296, 'breatherd': 1297, 'blew': 1298, 'threadbare': 1299, 'negatory': 1300, 'cause': 1301, 'curves': 1302, 'mill': 1303, \"ov're\": 1304, 'rexburg': 1305, 'hoist': 1306, 'bound': 1307, 'brain': 1308, 'wear': 1309, 'whether': 1310, 'brand': 1311, 'austin': 1312, \"boilin'\": 1313, 'feelings': 1314, 'mine': 1315, 'wicks': 1316, \"hangin'\": 1317, 'without': 1318, 'trail': 1319, 'planted': 1320, 'columbia': 1321, 'voice': 1322, 'enough': 1323, 'thirteen': 1324, 'willow': 1325, 'ledge': 1326, 'pipes': 1327, 'oats': 1328, \"cryin'\": 1329, 'yonder': 1330, 'guns': 1331, 'louisville': 1332, 'winds': 1333, 'government': 1334, 'many': 1335, 'breast': 1336, 'delaware': 1337, 'commence': 1338, 'non': 1339, 'tonks': 1340, 'plain': 1341, 'engines': 1342, 'valley': 1343, 'danger': 1344, 'disappear': 1345, 'afar': 1346, 'door': 1347, \"everybody's\": 1348, 'horn': 1349, 'type': 1350, 'seat': 1351, 'find': 1352, 'tarry': 1353, 'may': 1354, 'light': 1355, 'beautiful': 1356, 'sinner': 1357, 'glass': 1358, 'wanted': 1359, 'mail': 1360, 'skinful': 1361, 'hives': 1362, 'days': 1363, \"changin'\": 1364, 'texarkana': 1365, 'wooo': 1366, 'town': 1367, 'nassau': 1368, 'lay': 1369, 'especially': 1370, \"angel's\": 1371, 'dollars': 1372, 'unknown': 1373, 'dozen': 1374, 'blessing': 1375, 'meadow': 1376, 'churching': 1377, 'cap': 1378, 'peacemaker': 1379, 'courthouse': 1380, 'argentina': 1381, 'woke': 1382, 'shuffle': 1383, 'driftwood': 1384, 'hats': 1385, 'kansas': 1386, 'orders': 1387, 'mean': 1388, 'grace': 1389, 'little': 1390, 'worn': 1391, 'desire': 1392, 'weary': 1393, \"devil's\": 1394, 'jewelery': 1395, 'single': 1396, 'hmm': 1397, 'crazy': 1398, 'nobody': 1399, 'hundredweight': 1400, 'aloft': 1401, \"there'll\": 1402, 'reached': 1403, 'drain': 1404, 'troubles': 1405, 'father': 1406, 'kentucky': 1407, \"flashin'\": 1408, 'beauties': 1409, 'mountain': 1410, 'feeling': 1411, \"laughin'\": 1412, 'walks': 1413, 'cavalry': 1414, 'habastock': 1415, 'warden': 1416, 'moon': 1417, 'split': 1418, 'frying': 1419, 'labored': 1420, 'tear': 1421, 'click': 1422, 'undone': 1423, 'coach': 1424, 'forsake': 1425, 'wheat': 1426, 'henry': 1427, 'slipping': 1428, \"sleepin'\": 1429, 'snowball': 1430, 'bread': 1431, 'james': 1432, 'ear': 1433, 'hills': 1434, 'words': 1435, 'downstream': 1436, 'wrangle': 1437, 'rules': 1438, 'part': 1439, 'son': 1440, 'dress': 1441, 'meddle': 1442, 'miller': 1443, 'journey': 1444, 'roll': 1445, \"smokin'\": 1446, 'wheels': 1447, 'shalom': 1448, 'spade': 1449, 'fret': 1450, 'thatching': 1451, 'service': 1452, 'flow': 1453, 'lake': 1454, 'ways': 1455, 'youth': 1456, 'gleaming': 1457, 'arizona': 1458, 'sue': 1459, 'goodbye': 1460, 'webb': 1461, 'ryder': 1462, 'rights': 1463, 'knight': 1464, 'wheeler': 1465, 'ninety': 1466, 'cross': 1467, \"an'\": 1468, 'laughing': 1469, 'killed': 1470, \"world's\": 1471, 'drunk': 1472, 'chickapee': 1473, 'whole': 1474, 'blessings': 1475, 'salvador': 1476, 'cedar': 1477, 'foot': 1478, 'celebrated': 1479, 'fan': 1480, 'winslow': 1481, 'turned': 1482, 'sweethearts': 1483, 'thoughts': 1484, 'sake': 1485, 'tried': 1486, 'ticket': 1487, 'steady': 1488, 'north': 1489, 'watched': 1490, 'already': 1491, 'cares': 1492, 'swinger': 1493, 'plea': 1494, 'sea': 1495, 'running': 1496, 'waits': 1497, 'babydoll': 1498, \"ain't\": 1499, 'antone': 1500, 'wednesday': 1501, 'behold': 1502, 'finish': 1503, 'nailed': 1504, 'troubled': 1505, 'sorry': 1506, 'pasadena': 1507, 'corn': 1508, 'pocotello': 1509, 'homemade': 1510, 'bought': 1511, 'lived': 1512, 'side': 1513, 'eighty': 1514, 'evil': 1515, 'went': 1516, 'army': 1517, 'dared': 1518, 'reminded': 1519, 'loneliness': 1520, 'cant': 1521, 'brave': 1522, 'fria': 1523, 'told': 1524, 'polish': 1525, 'trimming': 1526, 'miner': 1527, 'buried': 1528, 'crops': 1529, 'around': 1530, 'hide': 1531, 'holes': 1532, \"wearin'\": 1533, 'carrying': 1534, 'reason': 1535, 'tenderly': 1536, 'old': 1537, 'robert': 1538, 'start': 1539, 'sirens': 1540, 'redeemed': 1541, 'falling': 1542, 'weak': 1543, 'far': 1544, 'dusty': 1545, 'automobile': 1546, 'story': 1547, 'brains': 1548, 'clay': 1549, \"'till\": 1550, 'pale': 1551, 'card': 1552, 'tomorrow': 1553, 'charleston': 1554, 'melodious': 1555, 'hit': 1556, 'found': 1557, 'hid': 1558, \"'round\": 1559, 'failing': 1560, 'ate': 1561, 'fold': 1562, 'clickity': 1563, 'ottowa': 1564, 'meanest': 1565, 'deadly': 1566, 'gathered': 1567, 'curve': 1568, 'promise': 1569, 'thy': 1570, \"lady's\": 1571, 'shoulder': 1572, 'passing': 1573, 'george': 1574, 'names': 1575, \"sprout'\": 1576, 'hero': 1577, 'thank': 1578, 'chains': 1579, 'earn': 1580, 'saw': 1581, 'coat': 1582, \"mornin'\": 1583, 'charity': 1584, 'summer': 1585, 'everybody': 1586, 'drag': 1587, \"they've\": 1588, 'dream': 1589, 'nectar': 1590, 'rusted': 1591, 'sheriff': 1592, 'cry': 1593, \"talkin'\": 1594, 'tipperary': 1595, 'transmission': 1596, 'rich': 1597, \"c'mon\": 1598, 'scandalized': 1599, 'aim': 1600, 'whirlwind': 1601, 'job': 1602, 'rain': 1603, 'tongue': 1604, 'iwo': 1605, 'offer': 1606, 'giggle': 1607, 'forty': 1608, 'partners': 1609, 'real': 1610, \"eatin'\": 1611, 'feed': 1612, 'spirit': 1613, 'tin': 1614, 'loves': 1615, 'worst': 1616, \"what's\": 1617, 'sell': 1618, \"mournin'\": 1619, 'taken': 1620, 'miles': 1621, 'constable': 1622, 'flew': 1623, 'shoot': 1624, 'swinging': 1625, 'toll': 1626, 'jump': 1627, \"hon'ring\": 1628, 'another': 1629, 'gambler': 1630, 'bees': 1631, 'bullet': 1632, \"pickin'\": 1633, 'understand': 1634, 'johnny': 1635, 'pepper': 1636, 'long': 1637, 'certain': 1638, 'written': 1639, 'sup': 1640, 'rock': 1641, 'later': 1642, 'sand': 1643, 'opened': 1644, 'begun': 1645, 'stuff': 1646, 'pride': 1647, 'showed': 1648, 'lifeblood': 1649, 'spike': 1650, 'windows': 1651, 'shall': 1652, 'tight': 1653, 'hole': 1654, \"dyin'\": 1655, \"livin'\": 1656, 'crawl': 1657, 'flesh': 1658, 'rail': 1659, \"cow's\": 1660, 'almost': 1661, 'dangerous': 1662, 'worry': 1663, 'powder': 1664, \"peoples'\": 1665, 'doors': 1666, 'hammer': 1667, \"how's\": 1668, 'goes': 1669, 'pains': 1670, \"friend's\": 1671, 'swings': 1672, 'match': 1673, 'picker': 1674, 'sets': 1675, 'seems': 1676, 'costa': 1677, \"string's\": 1678, 'knee': 1679, \"headlight'\": 1680, 'goodness': 1681, 'drug': 1682, 'gulf': 1683, 'canyons': 1684, 'bogs': 1685, 'eiderdown': 1686, 'slumbering': 1687, 'covered': 1688, 'hundred': 1689, \"omega's\": 1690, 'melody': 1691, 'hard': 1692, 'heartaches': 1693, 'came': 1694, 'toil': 1695, 'round': 1696, 'lures': 1697, 'flames': 1698, 'crater': 1699, \"everything's\": 1700, 'causes': 1701, \"papa's\": 1702, 'sitting': 1703, \"it'll\": 1704, 'driver': 1705, 'someday': 1706, 'fond': 1707, 'played': 1708, 'boss': 1709, 'fairer': 1710, 'pick': 1711, 'pigs': 1712, 'seed': 1713, 'detroit': 1714, 'offered': 1715, 'phoenix': 1716, 'music': 1717, 'spirits': 1718, 'seen': 1719, 'michigan': 1720, 'eldorado': 1721, 'began': 1722, 'gone': 1723, 'blessed': 1724, 'mama': 1725, 'pleaded': 1726, 'brother': 1727, \"day's\": 1728, \"smilin'\": 1729, 'grunt': 1730, \"guy'd\": 1731, 'legs': 1732, 'freed': 1733, 'slowed': 1734, 'personal': 1735, 'away': 1736, 'sight': 1737, 'quite': 1738, 'fireman': 1739, 'thing': 1740, \"howlin'\": 1741, 'adapter': 1742, \"heaven's\": 1743, 'driving': 1744, 'constantly': 1745, 'inch': 1746, \"who's\": 1747, 'smells': 1748, 'ball': 1749, \"henry's\": 1750, 'company': 1751, 'last': 1752, 'getting': 1753, 'matter': 1754, 'cadallic': 1755, 'strings': 1756, 'steamdrill': 1757, 'beasts': 1758, 'quarter': 1759, 'forgiver': 1760, 'toronto': 1761, 'quit': 1762, \"eternity's\": 1763, 'bare': 1764, 'feel': 1765, 'fun': 1766, 'redwood': 1767, 'whiskey': 1768, 'horse': 1769, 'less': 1770, 'darkness': 1771, 'tunnels': 1772, 'cadillac': 1773, 'shines': 1774, 'fact': 1775, 'met': 1776, 'folks': 1777, 'applaud': 1778, 'brag': 1779, 'conflict': 1780, 'noticed': 1781, 'hallelujah': 1782, 'store': 1783, 'used': 1784, 'anyway': 1785, 'liars': 1786, 'machines': 1787, \"i'll\": 1788, \"waitin'\": 1789, 'ann': 1790, 'wait': 1791, 'fill': 1792, 'doth': 1793, 'wayfaring': 1794, 'thud': 1795, 'colored': 1796, 'freeze': 1797, 'load': 1798, 'swing': 1799, 'rouge': 1800, 'glean': 1801, 'learning': 1802, \"roller's\": 1803, 'grin': 1804, 'simply': 1805, \"we're\": 1806, 'tags': 1807, 'despair': 1808, 'spoke': 1809, 'jose': 1810, 'engine': 1811, 'leave': 1812, 'party': 1813, 'thou': 1814, 'meditate': 1815, 'vicious': 1816, 'conductor': 1817, 'salvation': 1818, 'chime': 1819, 'whistle': 1820, 'fin': 1821, \"reachin'\": 1822, 'fascinated': 1823, 'newly': 1824, 'somewhere': 1825, 'looked': 1826, 'nerve': 1827, 'captain': 1828, 'thunder': 1829, 'gather': 1830, 'drunken': 1831, 'degree': 1832, 'reno': 1833, 'cost': 1834, 'ladder': 1835, 'phone': 1836, 'shined': 1837, 'righteous': 1838, 'winnemucca': 1839, 'green': 1840, \"ira'd\": 1841, 'shown': 1842, 'railway': 1843, \"bullet's\": 1844, 'babe': 1845, 'eleven': 1846, 'vow': 1847, 'lac': 1848, 'windy': 1849, 'mate': 1850, 'ought': 1851, 'apart': 1852, 'flood': 1853, 'alaska': 1854, 'mow': 1855, \"can't\": 1856, \"how'd\": 1857, 'faith': 1858, \"smile's\": 1859, 'since': 1860, 'lord': 1861, 'snapping': 1862, 'high': 1863, 'scaffold': 1864, 'folk': 1865, 'whose': 1866, 'fits': 1867, 'carcass': 1868, 'wishing': 1869, 'cure': 1870, 'shot': 1871, 'lose': 1872, 'restless': 1873, 'city': 1874, 'drown': 1875, 'lying': 1876, 'grows': 1877, 'fair': 1878, 'plunged': 1879, 'alright': 1880, 'trees': 1881, 'sarasota': 1882, 'shalimar': 1883, 'yes': 1884, 'factory': 1885, \"drivin'\": 1886, 'thousand': 1887, 'blows': 1888, 'chrome': 1889, 'dead': 1890, 'tunnel': 1891, 'sometimes': 1892, 'dried': 1893, 'slow': 1894, 'giving': 1895, 'rip': 1896, \"'tho\": 1897, 'prepare': 1898, 'tired': 1899, 'pleasures': 1900, 'divide': 1901, 'charmer': 1902, 'gerneral': 1903, 'receive': 1904, 'cuss': 1905, 'flag': 1906, 'dealing': 1907, 'fist': 1908, \"movin'\": 1909, 'kick': 1910, 'shallow': 1911, 'arkansas': 1912, 'quick': 1913, 'smoked': 1914, \"momma's\": 1915, 'stumbled': 1916, 'county': 1917, 'killer': 1918, \"i'd\": 1919, 'passenger': 1920, 'clack': 1921, 'foolish': 1922, 'springfield': 1923, 'know': 1924, 'considered': 1925, 'best': 1926, 'cheek': 1927, 'saginaw': 1928, 'like': 1929, 'songs': 1930, 'shining': 1931, 'weighed': 1932, 'bed': 1933, 'pluming': 1934, 'touched': 1935, 'joint': 1936, 'willy': 1937, 'mangy': 1938, 'draw': 1939, 'bye': 1940, 'become': 1941, 'raised': 1942, 'fuel': 1943, 'waters': 1944, 'free': 1945, 'ship': 1946, 'scalded': 1947, 'sister': 1948, 'kinda': 1949, 'weeping': 1950, 'nashville': 1951, 'visits': 1952, 'louisiana': 1953, 'packingham': 1954, 'lordy': 1955, 'south': 1956, 'waiting': 1957, 'numbering': 1958, 'coffee': 1959, 'forgive': 1960, 'history': 1961, 'clothes': 1962, 'jury': 1963, 'indians': 1964, 'tone': 1965, 'holding': 1966, 'roam': 1967, \"sayin'\": 1968, 'red': 1969, 'guts': 1970, \"sweetheart's\": 1971, 'something': 1972, 'francis': 1973, 'streak': 1974, 'parkersburg': 1975, 'dear': 1976, 'traveling': 1977, 'lights': 1978, 'straw': 1979, 'binds': 1980, 'noble': 1981, 'maybe': 1982, 'numbered': 1983, 'daze': 1984, 'envy': 1985, 'bone': 1986, 'biter': 1987, 'mister': 1988, 'play': 1989, 'torn': 1990, 'threw': 1991, 'bent': 1992, 'dry': 1993, 'awful': 1994, 'juarez': 1995, 'slayer': 1996, 'window': 1997, 'loved': 1998, 'move': 1999, 'ohh': 2000, 'hurt': 2001, 'meant': 2002, \"'sue\": 2003, 'diamondtina': 2004, 'rails': 2005, 'ohio': 2006, 'bell': 2007, \"buddy's\": 2008, 'fellas': 2009, 'stopped': 2010, 'teach': 2011, 'speeched': 2012, 'sunny': 2013, 'forevermore': 2014, 'healing': 2015, 'biggest': 2016, 'could': 2017, 'carry': 2018, 'travel': 2019, 'cheaper': 2020, 'sweeping': 2021, 'ceased': 2022, 'teeth': 2023, 'cork': 2024, 'fella': 2025, 'bountiful': 2026, 'scene': 2027, 'leather': 2028, 'armageddon': 2029, 'wretched': 2030, 'moved': 2031, 'asked': 2032, 'accidentally': 2033, 'hollywood': 2034, 'middle': 2035, 'arrested': 2036, 'batter': 2037, \"sittin'\": 2038, 'repair': 2039, 'swear': 2040, 'stole': 2041, 'pipers': 2042, 'burned': 2043, 'bust': 2044, 'semi': 2045, \"'sembly\": 2046, 'love': 2047, 'lower': 2048, 'home': 2049, 'glad': 2050, 'reception': 2051, 'white': 2052, 'gift': 2053, 'waving': 2054, 'concrete': 2055, 'hat': 2056, 'bench': 2057, 'keen': 2058, 'raced': 2059, 'arizonia': 2060, 'underneath': 2061, 'hot': 2062, \"daughter's\": 2063, 'singing': 2064, 'stands': 2065, 'dump': 2066, 'saved': 2067, \"god'll\": 2068, 'strike': 2069, 'shit': 2070, 'muffled': 2071, \"comin'\": 2072, 'shereville': 2073, 'fingers': 2074, 'july': 2075, 'shirt': 2076, 'highwayman': 2077, \"summer's\": 2078, 'ocean': 2079, 'chadanocka': 2080, 'first': 2081, 'thief': 2082, 'moorlands': 2083, 'title': 2084, 'gracious': 2085, 'sprout': 2086, 'tucked': 2087, 'often': 2088, 'river': 2089, 'worth': 2090, 'stop': 2091, 'manna': 2092, 'boys': 2093, 'cab': 2094, 'forgiveness': 2095, 'bills': 2096, 'wind': 2097, 'meeting': 2098, 'ever': 2099, 'thousands': 2100, 'gravel': 2101, 'stairs': 2102, 'live': 2103, 'fully': 2104, 'rush': 2105, 'thine': 2106, 'drifted': 2107, 'parade': 2108, 'lesson': 2109, 'lemme': 2110, 'color': 2111, 'laugh': 2112, 'held': 2113, \"believen'\": 2114, 'rainbow': 2115, 'gray': 2116, 'empire': 2117, 'wail': 2118, 'watch': 2119, \"runnin'\": 2120, 'well': 2121, 'bastards': 2122, 'black': 2123, 'bay': 2124, 'lift': 2125, \"doin'\": 2126, 'going': 2127, 'rewarded': 2128, 'model': 2129, 'done': 2130, \"judge's\": 2131, 'win': 2132, 'never': 2133, 'ditches': 2134, \"lightnin'\": 2135, 'cooking': 2136, 'drops': 2137, \"takin'\": 2138, 'praise': 2139, 'dance': 2140, 'breakfast': 2141, 'took': 2142, \"tuggin'\": 2143, 'cabaret': 2144, 'speaks': 2145, 'railroad': 2146, 'correction': 2147, 'breath': 2148, \"here's\": 2149, 'course': 2150, 'guide': 2151, 'miss': 2152, 'graveyard': 2153, 'tougher': 2154, 'grabbed': 2155, 'taught': 2156, 'dignity': 2157, 'forever': 2158, \"searchin'\": 2159, 'danny': 2160, 'living': 2161, 'hungry': 2162, 'trembling': 2163, 'rio': 2164, 'grinned': 2165, 'jordan': 2166, 'runs': 2167, \"mountain's\": 2168, 'steel': 2169, 'entwined': 2170, 'jack': 2171, 'said': 2172, 'polished': 2173, 'boulder': 2174, 'shoeshine': 2175, 'taste': 2176, 'beside': 2177, 'year': 2178, 'good': 2179, \"'neath\": 2180, 'pain': 2181, 'hand': 2182, 'rose': 2183, \"dancin'\": 2184, 'alpha': 2185, 'blacken': 2186, 'news': 2187, 'kindness': 2188, 'idaho': 2189, 'lead': 2190, 'falter': 2191, 'three': 2192, 'lies': 2193, 'fare': 2194, 'every': 2195, 'wall': 2196, 'past': 2197, 'dropper': 2198, 'test': 2199, 'mare': 2200, 'jones': 2201, 'delight': 2202, 'swiftness': 2203, 'brighter': 2204, 'separation': 2205, \"sent'st\": 2206, 'save': 2207, 'lonely': 2208, 'servant': 2209, 'sowed': 2210, 'sailor': 2211, 'heart': 2212, 'suppose': 2213, 'looks': 2214, 'lunch': 2215, 'seep': 2216, 'clouds': 2217, 'pigiron': 2218, 'eternity': 2219, 'captin': 2220, 'dessert': 2221, 'recorded': 2222, 'emerald': 2223, 'charms': 2224, 'ones': 2225, \"soul's\": 2226, \"pumpin'\": 2227, 'dirty': 2228, 'eye': 2229, 'john': 2230, 'sigh': 2231, 'friends': 2232, 'hay': 2233, 'canvas': 2234, 'wreck': 2235, 'dreary': 2236, 'five': 2237, 'richer': 2238, 'climbed': 2239, 'brown': 2240, 'show': 2241, 'sixty': 2242, 'angels': 2243, \"we'd\": 2244, 'flat': 2245, 'star': 2246, 'sure': 2247, 'hill': 2248, \"goin'\": 2249, 'buffalo': 2250, 'cook': 2251, 'together': 2252, 'special': 2253, \"bout'\": 2254, 'spit': 2255, 'heavy': 2256, 'tremble': 2257, 'thirst': 2258, 'beer': 2259, 'frown': 2260, 'teardrops': 2261, 'hardly': 2262, \"who've\": 2263, 'stone': 2264, 'section': 2265, 'double': 2266, 'called': 2267, 'main': 2268, 'dying': 2269, 'punched': 2270, 'wreath': 2271, 'back': 2272, 'block': 2273, 'marked': 2274, 'choke': 2275, 'sing': 2276, 'greed': 2277, 'within': 2278, 'universe': 2279, 'trial': 2280}\n",
      "generated0 tokens\n"
     ]
    },
    {
     "name": "stdout",
     "output_type": "stream",
     "text": [
      "generated1000 tokens\n",
      "generated2000 tokens\n",
      "generated3000 tokens\n",
      "generated4000 tokens\n",
      "generated5000 tokens\n",
      "generated6000 tokens\n",
      "generated7000 tokens\n",
      "generated8000 tokens\n",
      "generated9000 tokens\n",
      "training data generated\n"
     ]
    },
    {
     "ename": "MemoryError",
     "evalue": "Unable to allocate 470. MiB for an array with shape (54036, 2281) and data type int32",
     "output_type": "error",
     "traceback": [
      "\u001b[1;31m---------------------------------------------------------------------------\u001b[0m",
      "\u001b[1;31mMemoryError\u001b[0m                               Traceback (most recent call last)",
      "Input \u001b[1;32mIn [2]\u001b[0m, in \u001b[0;36m<cell line: 119>\u001b[1;34m()\u001b[0m\n\u001b[0;32m    115\u001b[0m word_to_id, id_to_word \u001b[38;5;241m=\u001b[39m mapping(tokens)\n\u001b[0;32m    116\u001b[0m \u001b[38;5;28mprint\u001b[39m(word_to_id)\n\u001b[1;32m--> 119\u001b[0m X, y \u001b[38;5;241m=\u001b[39m \u001b[43mgenerate_training_data\u001b[49m\u001b[43m(\u001b[49m\u001b[43mtokens\u001b[49m\u001b[43m,\u001b[49m\u001b[43m \u001b[49m\u001b[43mword_to_id\u001b[49m\u001b[43m,\u001b[49m\u001b[43m \u001b[49m\u001b[38;5;241;43m3\u001b[39;49m\u001b[43m)\u001b[49m\n\u001b[0;32m    123\u001b[0m \u001b[38;5;66;03m#print(np.shape(X))\u001b[39;00m\n\u001b[0;32m    124\u001b[0m \u001b[38;5;66;03m#print(np.shape(y))\u001b[39;00m\n\u001b[0;32m    126\u001b[0m \u001b[38;5;28mprint\u001b[39m(X\u001b[38;5;241m.\u001b[39mshape)\n",
      "Input \u001b[1;32mIn [2]\u001b[0m, in \u001b[0;36mgenerate_training_data\u001b[1;34m(tokens, word_to_id, window)\u001b[0m\n\u001b[0;32m     61\u001b[0m         \u001b[38;5;28mprint\u001b[39m(\u001b[38;5;124m'\u001b[39m\u001b[38;5;124mgenerated\u001b[39m\u001b[38;5;124m'\u001b[39m\u001b[38;5;241m+\u001b[39m \u001b[38;5;28mstr\u001b[39m(i) \u001b[38;5;241m+\u001b[39m\u001b[38;5;124m'\u001b[39m\u001b[38;5;124m tokens\u001b[39m\u001b[38;5;124m'\u001b[39m)\n\u001b[0;32m     63\u001b[0m \u001b[38;5;28mprint\u001b[39m(\u001b[38;5;124m'\u001b[39m\u001b[38;5;124mtraining data generated\u001b[39m\u001b[38;5;124m'\u001b[39m)\n\u001b[1;32m---> 64\u001b[0m \u001b[38;5;28;01mreturn\u001b[39;00m np\u001b[38;5;241m.\u001b[39marray(X), \u001b[43mnp\u001b[49m\u001b[38;5;241;43m.\u001b[39;49m\u001b[43marray\u001b[49m\u001b[43m(\u001b[49m\u001b[43my\u001b[49m\u001b[43m)\u001b[49m\n",
      "\u001b[1;31mMemoryError\u001b[0m: Unable to allocate 470. MiB for an array with shape (54036, 2281) and data type int32"
     ]
    }
   ],
   "source": [
    "import keras\n",
    "import pandas as pd\n",
    "import re\n",
    "import tensorflow.keras\n",
    "'''\n",
    "data = pd.read_csv('CNN_Articels_clean.csv')\n",
    "text = pd.DataFrame(data, columns=['Article text'])\n",
    "text_np = pd.DataFrame.to_numpy(text)\n",
    "'''\n",
    "lyrics_file = open('johnny-cash.txt', 'r')\n",
    "text = lyrics_file.read()\n",
    "lyrics_file.close()\n",
    "\n",
    "def tokenize(text):\n",
    "    pattern = re.compile(r'[A-Za-z]+[\\w^\\']*|[\\w^\\']*[A-Za-z]+[\\w^\\']*')\n",
    "    return pattern.findall(text.lower())\n",
    "\n",
    "def preprocess(tokens):\n",
    "    tokens_processed = []\n",
    "    for words in tokens:\n",
    "        if words in stop_words:\n",
    "            continue\n",
    "        if len(words) <= 2:\n",
    "            continue\n",
    "\n",
    "        tokens_processed.append(words)\n",
    "\n",
    "    return tokens_processed\n",
    "\n",
    "def mapping(tokens):\n",
    "    word_to_id = {}\n",
    "    id_to_word = {}\n",
    "\n",
    "    for i, token in enumerate(set(tokens)):\n",
    "        word_to_id[token] = i\n",
    "        id_to_word[i] = token\n",
    "\n",
    "    print('mapping done')\n",
    "\n",
    "    return word_to_id, id_to_word\n",
    "\n",
    "\n",
    "def generate_training_data(tokens, word_to_id, window):\n",
    "    X = []\n",
    "    y = []\n",
    "    n_tokens = len(tokens)\n",
    "\n",
    "    for i in range(n_tokens):\n",
    "        idx = concat(\n",
    "            range(max(0, i - window), i),\n",
    "            range(i, min(n_tokens, i + window + 1))\n",
    "        )\n",
    "        i_id = word_to_id[tokens[i]]\n",
    "        for j in idx:\n",
    "            if i == j:\n",
    "                continue\n",
    "            X.append(one_hot_encode(i_id, len(word_to_id)))\n",
    "            y.append(one_hot_encode(word_to_id[tokens[j]], len(word_to_id)))\n",
    "\n",
    "        if i%1000 == 0:\n",
    "            print('generated'+ str(i) +' tokens')\n",
    "\n",
    "    print('training data generated')\n",
    "    return np.array(X), np.array(y)\n",
    "\n",
    "\n",
    "\n",
    "def concat(*iterables):\n",
    "    for iterable in iterables:\n",
    "        yield from iterable\n",
    "\n",
    "\n",
    "def one_hot_encode(id, vocab_size):\n",
    "    res = [0] * vocab_size\n",
    "    res[id] = 1\n",
    "    return res\n",
    "\n",
    "tokens = preprocess(tokenize(text))\n",
    "\n",
    "#tokens = preprocess(tokenize(str(text_np[1])))\n",
    "\n",
    "'''\n",
    "for i in range(40):\n",
    "    tokens += preprocess(tokenize(str(text_np[i+2])))\n",
    "'''\n",
    "print(np.shape(tokens))\n",
    "\n",
    "\"\"\"\n",
    "tokens = list(map(lemmatizer.lemmatize, tokens))\n",
    "for words in tokens:\n",
    "    if(words in stop_words):\n",
    "        tokens.remove(words)\n",
    "    elif(len(words) < 3):\n",
    "        tokens.remove(words)\n",
    "\n",
    "print(tokens)\n",
    "\n",
    "\n",
    "\n",
    "#tokens = lemmatizer.lemmatize(tokens)\n",
    "\n",
    "for i in range(15):\n",
    "    temp_tokens = tokenize(str(text_np[i+2]))\n",
    "    temp_tokens = list(map(lemmatizer.lemmatize, temp_tokens))\n",
    "\n",
    "    for word in temp_tokens:\n",
    "        if(word in stop_words):\n",
    "            temp_tokens.remove(word)\n",
    "        elif(len(word) < 3):\n",
    "            temp_tokens.remove(word)\n",
    "    tokens += temp_tokens\n",
    "\n",
    "    print('tokenization #' + str(i))\n",
    "\"\"\"\n",
    "word_to_id, id_to_word = mapping(tokens)\n",
    "print(word_to_id)\n",
    "\n",
    "\n",
    "X, y = generate_training_data(tokens, word_to_id, 3)\n",
    "\n",
    "\n",
    "\n",
    "#print(np.shape(X))\n",
    "#print(np.shape(y))\n",
    "\n",
    "print(X.shape)"
   ]
  },
  {
   "cell_type": "code",
   "execution_count": null,
   "metadata": {
    "pycharm": {
     "name": "#%%\n"
    }
   },
   "outputs": [],
   "source": [
    "num_neurons = X.shape[1]\n",
    "print(num_neurons)\n",
    "model = keras.Sequential()\n",
    "model.add(keras.layers.Dense(100, input_dim=num_neurons, activation='relu'))\n",
    "model.add(keras.layers.Dense(num_neurons, activation='softmax'))\n",
    "\n",
    "model.compile(optimizer='adam', loss=keras.losses.categorical_crossentropy, metrics=['accuracy'])\n",
    "history = model.fit(X, y, epochs=50, batch_size=128)\n",
    "model.summary()\n"
   ]
  },
  {
   "cell_type": "code",
   "execution_count": null,
   "metadata": {
    "pycharm": {
     "name": "#%%\n"
    }
   },
   "outputs": [],
   "source": [
    "\n",
    "\n"
   ]
  },
  {
   "cell_type": "code",
   "execution_count": null,
   "metadata": {
    "pycharm": {
     "name": "#%%\n"
    }
   },
   "outputs": [],
   "source": [
    "import matplotlib.pyplot as plt\n",
    "plt.plot(history.history['loss'])"
   ]
  },
  {
   "cell_type": "markdown",
   "metadata": {
    "pycharm": {
     "name": "#%% md\n"
    }
   },
   "source": []
  },
  {
   "cell_type": "code",
   "execution_count": null,
   "metadata": {
    "pycharm": {
     "name": "#%%\n"
    }
   },
   "outputs": [],
   "source": [
    "model2 = keras.Model(inputs=model.inputs, outputs=model.layers[0].output)\n",
    "x_enc = model2.predict(X)\n",
    "model2.summary()\n"
   ]
  },
  {
   "cell_type": "code",
   "execution_count": null,
   "metadata": {
    "pycharm": {
     "name": "#%%\n"
    }
   },
   "outputs": [],
   "source": [
    "x_enc.shape"
   ]
  },
  {
   "cell_type": "code",
   "execution_count": null,
   "metadata": {
    "pycharm": {
     "name": "#%%\n"
    }
   },
   "outputs": [],
   "source": [
    "print(x_enc)"
   ]
  },
  {
   "cell_type": "code",
   "execution_count": null,
   "metadata": {
    "pycharm": {
     "name": "#%%\n"
    }
   },
   "outputs": [],
   "source": [
    "index = word_to_id.get('love')\n",
    "print(index)\n",
    "a = model.predict(X[index:index+1])\n",
    "\n",
    "b = list(np.argsort(a)[0])[0:10]\n",
    "print(b)\n",
    "\n",
    "\n",
    "for p in range(10):\n",
    "    print(id_to_word.get(b[p]))"
   ]
  },
  {
   "cell_type": "code",
   "execution_count": null,
   "metadata": {
    "pycharm": {
     "name": "#%%\n"
    }
   },
   "outputs": [],
   "source": [
    "v1 = model2.predict(X[index:index+1])\n",
    "\n",
    "idx = word_to_id.get('like')\n",
    "v2 = model2.predict(X[idx:idx+1])\n",
    "\n",
    "#print(v1)\n",
    "#print(v2)\n",
    "print(np.linalg.norm(v2-v1))\n",
    "\n",
    "idk = word_to_id.get('gun')\n",
    "v3 = model2.predict(X[idk:idk+1])\n",
    "\n",
    "#print(v3)\n",
    "print(np.linalg.norm(v3-v1))\n"
   ]
  },
  {
   "cell_type": "code",
   "execution_count": null,
   "metadata": {
    "pycharm": {
     "name": "#%%\n"
    }
   },
   "outputs": [],
   "source": [
    "word_vectors = []\n",
    "\n",
    "for i in range(num_neurons):\n",
    "    word_vectors.append(one_hot_encode(i, num_neurons))\n",
    "\n",
    "word_vectors = np.array(word_vectors)\n",
    "\n"
   ]
  },
  {
   "cell_type": "code",
   "execution_count": null,
   "metadata": {
    "pycharm": {
     "name": "#%%\n"
    }
   },
   "outputs": [],
   "source": [
    "enc = model2.predict(word_vectors)\n",
    "enc.shape\n",
    "\n",
    "print(enc)"
   ]
  },
  {
   "cell_type": "code",
   "execution_count": null,
   "metadata": {
    "pycharm": {
     "name": "#%%\n"
    }
   },
   "outputs": [],
   "source": []
  },
  {
   "cell_type": "code",
   "execution_count": null,
   "metadata": {
    "pycharm": {
     "name": "#%%\n"
    },
    "scrolled": true
   },
   "outputs": [],
   "source": [
    "p = list()\n",
    "target = np.array(enc[word_to_id.get('yesterday')])\n",
    "#print(target)\n",
    "\n",
    "for i in range(num_neurons):\n",
    "    p.append(np.linalg.norm(target - np.array(enc[i])))\n",
    "\n",
    "p = np.array(p)\n",
    "a = list(np.argsort(p))\n",
    "\n",
    "lab = list()\n",
    "pp = list()\n",
    "\n",
    "fig, ax = plt.subplots()\n",
    "\n",
    "#print(a)\n",
    "for k in range(11):\n",
    "    lab.append(id_to_word.get(a[k]))\n",
    "    pp.append([p[a[k]]])\n",
    "\n",
    "plt.scatter(pp[1:], np.zeros((10)))\n",
    "print(lab)\n",
    "\n",
    "pp = np.array(pp)\n",
    "\n",
    "for k in range(1, 10):\n",
    "    plt.annotate(lab[k], (pp[k], 0.003 * k))\n"
   ]
  },
  {
   "cell_type": "code",
   "execution_count": null,
   "metadata": {
    "pycharm": {
     "name": "#%%\n"
    }
   },
   "outputs": [],
   "source": []
  }
 ],
 "metadata": {
  "kernelspec": {
   "display_name": "Python 3 (ipykernel)",
   "language": "python",
   "name": "python3"
  },
  "language_info": {
   "codemirror_mode": {
    "name": "ipython",
    "version": 3
   },
   "file_extension": ".py",
   "mimetype": "text/x-python",
   "name": "python",
   "nbconvert_exporter": "python",
   "pygments_lexer": "ipython3",
   "version": "3.9.12"
  },
  "toc": {
   "base_numbering": 1,
   "nav_menu": {},
   "number_sections": false,
   "sideBar": true,
   "skip_h1_title": false,
   "title_cell": "Table of Contents",
   "title_sidebar": "Contents",
   "toc_cell": false,
   "toc_position": {},
   "toc_section_display": true,
   "toc_window_display": true
  },
  "varInspector": {
   "cols": {
    "lenName": 16,
    "lenType": 16,
    "lenVar": 40
   },
   "kernels_config": {
    "python": {
     "delete_cmd_postfix": "",
     "delete_cmd_prefix": "del ",
     "library": "var_list.py",
     "varRefreshCmd": "print(var_dic_list())"
    },
    "r": {
     "delete_cmd_postfix": ") ",
     "delete_cmd_prefix": "rm(",
     "library": "var_list.r",
     "varRefreshCmd": "cat(var_dic_list()) "
    }
   },
   "types_to_exclude": [
    "module",
    "function",
    "builtin_function_or_method",
    "instance",
    "_Feature"
   ],
   "window_display": false
  }
 },
 "nbformat": 4,
 "nbformat_minor": 2
}
